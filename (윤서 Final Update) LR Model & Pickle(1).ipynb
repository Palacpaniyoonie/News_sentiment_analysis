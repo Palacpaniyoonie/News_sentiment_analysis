{
 "cells": [
  {
   "cell_type": "markdown",
   "id": "dbfd2b7a",
   "metadata": {},
   "source": [
    "# 필요 패키지 로드"
   ]
  },
  {
   "cell_type": "code",
   "execution_count": 1,
   "id": "f0ce449f",
   "metadata": {
    "execution": {
     "iopub.execute_input": "2022-11-02T06:50:43.936388Z",
     "iopub.status.busy": "2022-11-02T06:50:43.936154Z",
     "iopub.status.idle": "2022-11-02T06:50:45.656955Z",
     "shell.execute_reply": "2022-11-02T06:50:45.656283Z",
     "shell.execute_reply.started": "2022-11-02T06:50:43.936374Z"
    }
   },
   "outputs": [],
   "source": [
    "#필요 패키지 로드\n",
    "\n",
    "import pandas as pd\n",
    "import matplotlib.pyplot as plt\n",
    "import numpy as np\n",
    "from konlpy.tag import Okt\n",
    "from sklearn.feature_extraction.text import CountVectorizer\n",
    "from sklearn.feature_extraction.text import TfidfTransformer"
   ]
  },
  {
   "cell_type": "markdown",
   "id": "e53b1fb4",
   "metadata": {},
   "source": [
    "# 데이터 전처리"
   ]
  },
  {
   "cell_type": "code",
   "execution_count": 2,
   "id": "bb125547",
   "metadata": {},
   "outputs": [],
   "source": [
    "#데이터 불러오기\n",
    "#encoding = 'utf-8' or 'cp949'\n",
    "data1 = pd.read_csv('data_1121.csv', encoding = 'utf-8')"
   ]
  },
  {
   "cell_type": "code",
   "execution_count": 3,
   "id": "5e577907",
   "metadata": {},
   "outputs": [
    {
     "name": "stdout",
     "output_type": "stream",
     "text": [
      "<class 'pandas.core.frame.DataFrame'>\n",
      "RangeIndex: 10977 entries, 0 to 10976\n",
      "Data columns (total 4 columns):\n",
      " #   Column      Non-Null Count  Dtype \n",
      "---  ------      --------------  ----- \n",
      " 0   Unnamed: 0  10977 non-null  int64 \n",
      " 1   index       10977 non-null  int64 \n",
      " 2   icls_cnts   10977 non-null  object\n",
      " 3   label       10977 non-null  int64 \n",
      "dtypes: int64(3), object(1)\n",
      "memory usage: 343.2+ KB\n"
     ]
    }
   ],
   "source": [
    "#데이터 타입 등 데이터 정보 확인\n",
    "data1.info()"
   ]
  },
  {
   "cell_type": "code",
   "execution_count": 4,
   "id": "eef65ab0",
   "metadata": {},
   "outputs": [
    {
     "data": {
      "text/plain": [
       " 0    7681\n",
       " 1    2087\n",
       "-1    1209\n",
       "Name: label, dtype: int64"
      ]
     },
     "execution_count": 4,
     "metadata": {},
     "output_type": "execute_result"
    }
   ],
   "source": [
    "#필요한 column 만 가져오기, value별 개수 확인\n",
    "data1 = data1[['label','icls_cnts']]\n",
    "data1['label'].value_counts()"
   ]
  },
  {
   "cell_type": "code",
   "execution_count": 5,
   "id": "cb685c3d",
   "metadata": {
    "scrolled": true
   },
   "outputs": [
    {
     "data": {
      "text/plain": [
       " 0    6820\n",
       " 1    2061\n",
       "-1    1185\n",
       "Name: label, dtype: int64"
      ]
     },
     "execution_count": 5,
     "metadata": {},
     "output_type": "execute_result"
    }
   ],
   "source": [
    "#중복 제거하기(뉴스 기사 내용 중복되는 행들 제거)\n",
    "data1.drop_duplicates(subset = ['icls_cnts'], inplace = True)\n",
    "data1['label'].value_counts()"
   ]
  },
  {
   "cell_type": "code",
   "execution_count": 6,
   "id": "bf248b10",
   "metadata": {},
   "outputs": [],
   "source": [
    "df1 = data1"
   ]
  },
  {
   "cell_type": "code",
   "execution_count": 7,
   "id": "80e0c3fd",
   "metadata": {},
   "outputs": [
    {
     "name": "stdout",
     "output_type": "stream",
     "text": [
      "결측값 여부: False\n"
     ]
    }
   ],
   "source": [
    "#결측값 여부 확인\n",
    "print('결측값 여부:',df1.isnull().values.any())"
   ]
  },
  {
   "cell_type": "code",
   "execution_count": 8,
   "id": "a3c16572",
   "metadata": {},
   "outputs": [],
   "source": [
    "import re \n",
    "#텍스트 정제 함수 : 한글 이외의 문자 제거\n",
    "def text_cleaning(text):\n",
    "    #한글 정규표현식으로 한글만 추출\n",
    "    hangul = re.compile('[^ㄱ-ㅣ가-힣]+')\n",
    "    result = hangul.sub(' ',text)\n",
    "    return result"
   ]
  },
  {
   "cell_type": "code",
   "execution_count": 9,
   "id": "be620e43",
   "metadata": {},
   "outputs": [
    {
     "data": {
      "text/plain": [
       "<bound method NDFrame.head of        label                                          icls_cnts  \\\n",
       "0          0  ‘<b>경찰</b> 대혁신 TF’ 구성···<b>경찰</b>청장 ..‘이태원 핼러윈...   \n",
       "1          0  \"<b>경찰</b> 보고체계 마비\" 질타…이상민·행안부 별도 언급 않아 ..\"이태원...   \n",
       "2          0  이재명 ..“이태원 참사 <b>경찰</b> 질타한 尹, 세월호 때 박근혜 보는 듯”...   \n",
       "3          0  “<b>경찰</b> 업무에 대대적인 혁신이 필요하다”며 강하게 질책한 데 따른 조치...   \n",
       "4          0  대통령 질타한 날…<b>집회</b>현장서 게임·쇼핑한 <b>경찰</b> .. 안전<...   \n",
       "...      ...                                                ...   \n",
       "10972      1  경남 합천<b>경찰</b>서, 전화금융사기 예방 금융 직원에 감사장 수여 경남 합천...   \n",
       "10973      1  ‘베스트 여청<b>수사</b>팀’ 선정 김해서부<b>경찰</b>서(서장 심태환)은 ...   \n",
       "10974      1  김영환 영주<b>경찰</b>서 부청문감사인권관, 경북<b>경찰</b>청 베스트 팀장...   \n",
       "10975      0  　완주<b>경찰</b>서(서장 박종삼)는 10일 서장, <b>수사</b>과 직원, ...   \n",
       "10976      1  <b>경찰</b>, 승용차 절도 10대 추격전 끝 검거 ..[KBS 청주] ..훔친...   \n",
       "\n",
       "                                                 ko_text  \n",
       "0       경찰 대혁신 구성 경찰 청장 이태원 핼러윈 참사 전후 경찰 의 부실대응을 강하게 ...  \n",
       "1       경찰 보고체계 마비 질타 이상민 행안부 별도 언급 않아 이태원 참사 감찰 수사 에...  \n",
       "2      이재명 이태원 참사 경찰 질타한 세월호 때 박근혜 보는 듯 청 왜 시간 동안 쳐다보...  \n",
       "3       경찰 업무에 대대적인 혁신이 필요하다 며 강하게 질책한 데 따른 조치다 경찰 대혁...  \n",
       "4      대통령 질타한 날 집회 현장서 게임 쇼핑한 경찰 안전 사고 에 대비하기 위해 배치된...  \n",
       "...                                                  ...  \n",
       "10972  경남 합천 경찰 서 전화금융사기 예방 금융 직원에 감사장 수여 경남 합천 경찰 서 ...  \n",
       "10973   베스트 여청 수사 팀 선정 김해서부 경찰 서 서장 심태환 은 일 경남 경찰 청이 ...  \n",
       "10974  김영환 영주 경찰 서 부청문감사인권관 경북 경찰 청 베스트 팀장에 선정 김영환 경감...  \n",
       "10975   완주 경찰 서 서장 박종삼 는 일 서장 수사 과 직원 지역 경찰 이 함께 봉동 생...  \n",
       "10976   경찰 승용차 절도 대 추격전 끝 검거 청주 훔친 승용차로 고속도로를 질주하던 대 ...  \n",
       "\n",
       "[10066 rows x 3 columns]>"
      ]
     },
     "execution_count": 9,
     "metadata": {},
     "output_type": "execute_result"
    }
   ],
   "source": [
    "df1['ko_text']=df1['icls_cnts'].apply(lambda x: text_cleaning(x))\n",
    "df1.head"
   ]
  },
  {
   "cell_type": "code",
   "execution_count": 10,
   "id": "00526538",
   "metadata": {},
   "outputs": [
    {
     "name": "stdout",
     "output_type": "stream",
     "text": [
      "['경찰/Noun', '대/Modifier', '혁신/Noun', '구성/Noun', '경찰/Noun', '청장/Noun', '이태원/Noun', '핼러윈/Noun', '참사/Noun', '전후/Noun', '경찰/Noun', '의/Noun', '부실/Noun', '대응/Noun', '을/Josa', '강하게/Adjective', '질타/Noun', '한/Josa', '지/Verb', '이틀/Noun', '만에/Josa', '경찰/Noun', '청/Noun', '이/Josa', '행정안전부/Noun', '경찰/Noun', '국/Noun', '출범/Noun', '후/Noun', '국무총리/Noun', '소속/Noun', '경찰/Noun', '제/Modifier', '도발/Noun', '전/Modifier', '위원회/Noun', '도/Josa', '경찰/Noun', '제도/Noun', '개선/Noun', '방안/Noun', '을/Josa', '논의/Noun', '중인/Noun', '터/Noun', '여서/Josa', '경찰/Noun', '에/Josa', '대한/Noun', '외과/Noun', '수술/Noun', '이/Josa', '본격/Noun', '화할/Adjective', '것/Noun', '으로/Josa', '보인다/Verb', '경찰/Noun', '간부/Noun', '치안정감/Noun', '윤희/Noun', '근/Modifier', '경찰/Noun', '청장/Noun', '은/Josa', '이/Determiner', '날/Noun', '서울/Noun', '서대문구/Noun', '경찰/Noun', '청/Noun', '에서/Josa']\n"
     ]
    }
   ],
   "source": [
    "#pos tagging 함수 만들기\n",
    "\n",
    "def get_pos(x):\n",
    "    tagger = Okt()\n",
    "    pos = tagger.pos(x)\n",
    "    pos = ['{}/{}'.format(word,tag) for word, tag in pos]\n",
    "    return pos\n",
    "\n",
    "#함수 테스트 \n",
    "result = get_pos(df1['ko_text'][0])\n",
    "print(result)"
   ]
  },
  {
   "cell_type": "code",
   "execution_count": 11,
   "id": "8d0df64b",
   "metadata": {},
   "outputs": [],
   "source": [
    "#countvectorizer로 정수화 진행\n",
    "index_vectorizer = CountVectorizer(tokenizer = lambda x : get_pos(x))\n",
    "X = index_vectorizer.fit_transform(df1['ko_text'].tolist())"
   ]
  },
  {
   "cell_type": "code",
   "execution_count": 12,
   "id": "ec131893",
   "metadata": {},
   "outputs": [
    {
     "data": {
      "text/plain": [
       "(10066, 28596)"
      ]
     },
     "execution_count": 12,
     "metadata": {},
     "output_type": "execute_result"
    }
   ],
   "source": [
    "#shape 확인하기\n",
    "X.shape"
   ]
  },
  {
   "cell_type": "code",
   "execution_count": 13,
   "id": "2d042110",
   "metadata": {},
   "outputs": [
    {
     "name": "stdout",
     "output_type": "stream",
     "text": [
      " 경찰 대혁신 구성 경찰 청장 이태원 핼러윈 참사 전후 경찰 의 부실대응을 강하게 질타한 지 이틀 만에 경찰 청이 행정안전부 경찰 국 출범 후 국무총리 소속 경찰 제도발전위원회도 경찰 제도 개선방안을 논의 중인 터여서 경찰 에 대한 외과수술이 본격화할 것으로 보인다 경찰 간부 치안정감 윤희근 경찰 청장은 이날 서울 서대문구 경찰 청에서 \n",
      "  (0, 1391)\t11\n",
      "  (0, 5883)\t1\n",
      "  (0, 27714)\t1\n",
      "  (0, 2283)\t1\n",
      "  (0, 24154)\t2\n",
      "  (0, 19977)\t1\n",
      "  (0, 27464)\t1\n",
      "  (0, 23746)\t1\n",
      "  (0, 21672)\t1\n",
      "  (0, 19272)\t1\n",
      "  (0, 11735)\t1\n",
      "  (0, 6039)\t1\n",
      "  (0, 19215)\t2\n",
      "  (0, 664)\t1\n",
      "  (0, 23419)\t1\n",
      "  (0, 26961)\t1\n",
      "  (0, 22915)\t1\n",
      "  (0, 19983)\t1\n",
      "  (0, 8321)\t1\n",
      "  (0, 24093)\t2\n",
      "  (0, 19361)\t2\n",
      "  (0, 27592)\t1\n",
      "  (0, 2344)\t1\n",
      "  (0, 24575)\t1\n",
      "  (0, 28302)\t1\n",
      "  :\t:\n",
      "  (0, 809)\t1\n",
      "  (0, 10624)\t1\n",
      "  (0, 4977)\t1\n",
      "  (0, 22808)\t1\n",
      "  (0, 25509)\t1\n",
      "  (0, 17280)\t1\n",
      "  (0, 17134)\t1\n",
      "  (0, 6120)\t1\n",
      "  (0, 18225)\t1\n",
      "  (0, 14613)\t1\n",
      "  (0, 11479)\t1\n",
      "  (0, 28090)\t1\n",
      "  (0, 1140)\t1\n",
      "  (0, 19172)\t1\n",
      "  (0, 11382)\t1\n",
      "  (0, 336)\t1\n",
      "  (0, 24790)\t1\n",
      "  (0, 19154)\t1\n",
      "  (0, 2758)\t1\n",
      "  (0, 19190)\t1\n",
      "  (0, 19360)\t1\n",
      "  (0, 4240)\t1\n",
      "  (0, 13627)\t1\n",
      "  (0, 13547)\t1\n",
      "  (0, 17164)\t1\n"
     ]
    }
   ],
   "source": [
    "#결과 확인해보기\n",
    "print(df1['ko_text'][0])\n",
    "print(X[0])"
   ]
  },
  {
   "cell_type": "code",
   "execution_count": 14,
   "id": "32674628",
   "metadata": {},
   "outputs": [],
   "source": [
    "#tfidf transformer를 이용하여 중요도 추출\n",
    "tfidf_vectorizer = TfidfTransformer()\n",
    "X = tfidf_vectorizer.fit_transform(X)"
   ]
  },
  {
   "cell_type": "code",
   "execution_count": 15,
   "id": "920ae948",
   "metadata": {},
   "outputs": [
    {
     "name": "stdout",
     "output_type": "stream",
     "text": [
      "(10066, 28596)\n",
      "  (0, 28302)\t0.09910066279186426\n",
      "  (0, 28090)\t0.19308091319563214\n",
      "  (0, 27714)\t0.15105221060887694\n",
      "  (0, 27592)\t0.1229772823502977\n",
      "  (0, 27464)\t0.1369069287562809\n",
      "  (0, 26961)\t0.041956902179263074\n",
      "  (0, 25509)\t0.16470462617395112\n",
      "  (0, 24790)\t0.18161468046615759\n",
      "  (0, 24575)\t0.1429684048656679\n",
      "  (0, 24154)\t0.18855164784375714\n",
      "  (0, 24093)\t0.1232176838148644\n",
      "  (0, 23746)\t0.0958559765744435\n",
      "  (0, 23419)\t0.15105221060887694\n",
      "  (0, 22915)\t0.12940551619544438\n",
      "  (0, 22808)\t0.10459633570561054\n",
      "  (0, 21999)\t0.12734264980506735\n",
      "  (0, 21983)\t0.1229772823502977\n",
      "  (0, 21672)\t0.15926080461121925\n",
      "  (0, 21448)\t0.11002394187959752\n",
      "  (0, 19983)\t0.15105221060887694\n",
      "  (0, 19977)\t0.10005127856572579\n",
      "  (0, 19361)\t0.07098477707382016\n",
      "  (0, 19360)\t0.0726641561497372\n",
      "  (0, 19272)\t0.07568261598591483\n",
      "  (0, 19215)\t0.05478192560493479\n",
      "  :\t:\n",
      "  (0, 14613)\t0.1707270373406938\n",
      "  (0, 14214)\t0.101379282666542\n",
      "  (0, 13627)\t0.07903678291415002\n",
      "  (0, 13547)\t0.16051215846108838\n",
      "  (0, 11735)\t0.1202420629748325\n",
      "  (0, 11479)\t0.13107586015055422\n",
      "  (0, 11382)\t0.14116046296277734\n",
      "  (0, 10624)\t0.12717836600938054\n",
      "  (0, 8321)\t0.11524588794345313\n",
      "  (0, 6370)\t0.20554304140447088\n",
      "  (0, 6290)\t0.07089003763102397\n",
      "  (0, 6120)\t0.07738702980658932\n",
      "  (0, 6039)\t0.09050301564362458\n",
      "  (0, 5883)\t0.10876043355726817\n",
      "  (0, 4977)\t0.13618581069544813\n",
      "  (0, 4240)\t0.08095350278877737\n",
      "  (0, 2758)\t0.13225654465231873\n",
      "  (0, 2384)\t0.15381698304848737\n",
      "  (0, 2344)\t0.12605835057346146\n",
      "  (0, 2283)\t0.11999687446407448\n",
      "  (0, 1391)\t0.27907050040013454\n",
      "  (0, 1140)\t0.058097703047482324\n",
      "  (0, 809)\t0.12061452901072957\n",
      "  (0, 664)\t0.16547916905209245\n",
      "  (0, 336)\t0.12784224510972425\n"
     ]
    }
   ],
   "source": [
    "#결과 확인\n",
    "print(X.shape)\n",
    "print(X[0])"
   ]
  },
  {
   "cell_type": "markdown",
   "id": "7c8335ef",
   "metadata": {},
   "source": [
    "# 모델 적용"
   ]
  },
  {
   "cell_type": "code",
   "execution_count": 16,
   "id": "402251c6",
   "metadata": {},
   "outputs": [
    {
     "name": "stdout",
     "output_type": "stream",
     "text": [
      "(9059, 28596)\n",
      "(1007, 28596)\n"
     ]
    }
   ],
   "source": [
    "#데이터 셋 분리\n",
    "from sklearn.model_selection import train_test_split\n",
    "\n",
    "y = df1['label']\n",
    "X_train, X_test, y_train, y_test = train_test_split(X,y, test_size = 0.1)\n",
    "print(X_train.shape)\n",
    "print(X_test.shape)"
   ]
  },
  {
   "cell_type": "code",
   "execution_count": 17,
   "id": "b6db289a",
   "metadata": {},
   "outputs": [
    {
     "name": "stdout",
     "output_type": "stream",
     "text": [
      "정확도:0.81\n",
      "정밀도:0.814\n",
      "재현율:0.814\n",
      "F1:0.804\n"
     ]
    },
    {
     "name": "stderr",
     "output_type": "stream",
     "text": [
      "/usr/local/lib/python3.8/dist-packages/sklearn/linear_model/_logistic.py:444: ConvergenceWarning: lbfgs failed to converge (status=1):\n",
      "STOP: TOTAL NO. of ITERATIONS REACHED LIMIT.\n",
      "\n",
      "Increase the number of iterations (max_iter) or scale the data as shown in:\n",
      "    https://scikit-learn.org/stable/modules/preprocessing.html\n",
      "Please also refer to the documentation for alternative solver options:\n",
      "    https://scikit-learn.org/stable/modules/linear_model.html#logistic-regression\n",
      "  n_iter_i = _check_optimize_result(\n"
     ]
    }
   ],
   "source": [
    "#모델 적용\n",
    "from sklearn.linear_model import LogisticRegression\n",
    "from sklearn.metrics import accuracy_score, precision_score, recall_score, f1_score\n",
    "\n",
    "lr = LogisticRegression(random_state=0)\n",
    "lr.fit(X_train, y_train)\n",
    "\n",
    "y_pred = lr.predict(X_test)\n",
    "y_pred_probability = lr.predict_proba(X_test)[:,1]\n",
    "\n",
    "print(\"정확도:%.2f\"% accuracy_score(y_test, y_pred))\n",
    "print(\"정밀도:%.3f\"% precision_score(y_test,y_pred, average = 'weighted'))\n",
    "print(\"재현율:%.3f\"% recall_score(y_test, y_pred, average = 'weighted'))\n",
    "print(\"F1:%.3f\"% f1_score(y_test,y_pred, average = 'weighted'))"
   ]
  },
  {
   "cell_type": "markdown",
   "id": "41f0b3b6",
   "metadata": {},
   "source": [
    "# 피클링"
   ]
  },
  {
   "cell_type": "code",
   "execution_count": 18,
   "id": "cc239601",
   "metadata": {},
   "outputs": [],
   "source": [
    "#save and pickle the model\n",
    "import pickle\n",
    "pickle.dump(lr, open('model.pkl','wb'))\n",
    "\n",
    "# pickle.dump(obj, file, protocol = None, *, fix_imports = True, buffer_callback = None)\n",
    "\n",
    "#loading model\n",
    "model = pickle.load(open('model.pkl', 'rb'))"
   ]
  },
  {
   "cell_type": "code",
   "execution_count": null,
   "id": "ead99380",
   "metadata": {},
   "outputs": [],
   "source": []
  }
 ],
 "metadata": {
  "kernelspec": {
   "display_name": "tf2.9.0-keras2.9.0-py3.8",
   "language": "python",
   "name": "tf2.9.0-keras2.9.0-py3.8"
  },
  "language_info": {
   "codemirror_mode": {
    "name": "ipython",
    "version": 3
   },
   "file_extension": ".py",
   "mimetype": "text/x-python",
   "name": "python",
   "nbconvert_exporter": "python",
   "pygments_lexer": "ipython3",
   "version": "3.8.10"
  }
 },
 "nbformat": 4,
 "nbformat_minor": 5
}
